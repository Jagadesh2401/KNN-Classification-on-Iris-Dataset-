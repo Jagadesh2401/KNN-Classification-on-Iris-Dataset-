{
 "cells": [
  {
   "cell_type": "markdown",
   "id": "158e8113-798a-491b-b4b8-f61d839bef46",
   "metadata": {},
   "source": [
    "## KNN Classification on Iris Dataset"
   ]
  },
  {
   "cell_type": "markdown",
   "id": "070c9272-938d-489c-b8a8-fe9538e3df2b",
   "metadata": {},
   "source": [
    "# Import libraries"
   ]
  },
  {
   "cell_type": "code",
   "execution_count": null,
   "id": "67a60f02-cf45-4024-8486-6845f6331d40",
   "metadata": {},
   "outputs": [],
   "source": [
    "import pandas as pd\n",
    "from sklearn.model_selection import train_test_split\n",
    "from sklearn.preprocessing import StandardScaler\n",
    "from sklearn.neighbors import KNeighborsClassifier\n",
    "from sklearn.metrics import accuracy_score, confusion_matrix, classification_report\n",
    "import matplotlib.pyplot as plt\n",
    "import os"
   ]
  },
  {
   "cell_type": "markdown",
   "id": "a8f8f36f-9061-43e7-8d7f-3929303c8176",
   "metadata": {},
   "source": [
    "# Step 1: Load the CSV dataset"
   ]
  },
  {
   "cell_type": "code",
   "execution_count": 8,
   "id": "204542a4-80cc-40aa-aa03-d970422b66be",
   "metadata": {},
   "outputs": [],
   "source": [
    "df = pd.read_csv(r\"C:\\Users\\DELL\\OneDrive\\Desktop\\project\\Iris.csv\")"
   ]
  },
  {
   "cell_type": "markdown",
   "id": "d463559e-14df-4f23-bf7c-fddefc34df82",
   "metadata": {},
   "source": [
    "# Step 2: Explore the dataset"
   ]
  },
  {
   "cell_type": "code",
   "execution_count": null,
   "id": "d0aded0b-4f01-4808-add2-3621e5443765",
   "metadata": {},
   "outputs": [
    {
     "name": "stdout",
     "output_type": "stream",
     "text": [
      "Dataset Sample:\n",
      "   Id  SepalLengthCm  SepalWidthCm  PetalLengthCm  PetalWidthCm      Species\n",
      "0   1            5.1           3.5            1.4           0.2  Iris-setosa\n",
      "1   2            4.9           3.0            1.4           0.2  Iris-setosa\n",
      "2   3            4.7           3.2            1.3           0.2  Iris-setosa\n",
      "3   4            4.6           3.1            1.5           0.2  Iris-setosa\n",
      "4   5            5.0           3.6            1.4           0.2  Iris-setosa\n"
     ]
    }
   ],
   "source": [
    "print(\"Dataset Sample:\")\n",
    "print(df.head())\n"
   ]
  },
  {
   "cell_type": "markdown",
   "id": "721899e1-2449-4415-9395-8915ac0779d0",
   "metadata": {},
   "source": [
    "# Step 3: Prepare features and labels"
   ]
  },
  {
   "cell_type": "code",
   "execution_count": 10,
   "id": "d7c532ef-2489-4f08-9568-796c91461687",
   "metadata": {},
   "outputs": [],
   "source": [
    "X = df.drop(columns=[\"Id\", \"Species\"])\n",
    "y = df[\"Species\"]\n"
   ]
  },
  {
   "cell_type": "markdown",
   "id": "64c94527-3f37-4251-bbdb-e74b0417333d",
   "metadata": {},
   "source": [
    "# Step 4: Encode target labels"
   ]
  },
  {
   "cell_type": "code",
   "execution_count": 11,
   "id": "3d1b415e-7c68-4f13-a076-ee65e4dfcccd",
   "metadata": {},
   "outputs": [],
   "source": [
    "from sklearn.preprocessing import LabelEncoder\n",
    "le = LabelEncoder()\n",
    "y_encoded = le.fit_transform(y)"
   ]
  },
  {
   "cell_type": "markdown",
   "id": "bdb48f14-3aed-4caa-bde7-a97d7b248ba8",
   "metadata": {},
   "source": [
    "# Step 5: Train-test split"
   ]
  },
  {
   "cell_type": "code",
   "execution_count": 12,
   "id": "6888445a-1872-4d9e-aa62-3903957fc311",
   "metadata": {},
   "outputs": [],
   "source": [
    "X_train, X_test, y_train, y_test = train_test_split(\n",
    "    X, y_encoded, test_size=0.2, random_state=42)"
   ]
  },
  {
   "cell_type": "markdown",
   "id": "cd98df0f-0919-44e1-acb0-1676c983d539",
   "metadata": {},
   "source": [
    "# Step 6: Normalize the data"
   ]
  },
  {
   "cell_type": "code",
   "execution_count": 13,
   "id": "1286f00e-e2ae-4f18-b664-541ac252968e",
   "metadata": {},
   "outputs": [],
   "source": [
    "scaler = StandardScaler()\n",
    "X_train_scaled = scaler.fit_transform(X_train)\n",
    "X_test_scaled = scaler.transform(X_test)"
   ]
  },
  {
   "cell_type": "markdown",
   "id": "a90e28cc-1ddb-48a8-ba5c-3100b0cfa4ce",
   "metadata": {},
   "source": [
    "# Step 7: Try different K values"
   ]
  },
  {
   "cell_type": "code",
   "execution_count": 14,
   "id": "939e9956-5010-4ec9-9ef2-3ddf40a3a63c",
   "metadata": {},
   "outputs": [
    {
     "name": "stdout",
     "output_type": "stream",
     "text": [
      "K=1 → Accuracy=1.00\n",
      "K=3 → Accuracy=1.00\n",
      "K=5 → Accuracy=1.00\n",
      "K=7 → Accuracy=1.00\n",
      "K=9 → Accuracy=1.00\n"
     ]
    }
   ],
   "source": [
    "k_values = [1, 3, 5, 7, 9]\n",
    "accuracies = []\n",
    "for k in k_values:\n",
    "    model = KNeighborsClassifier(n_neighbors=k)\n",
    "    model.fit(X_train_scaled, y_train)\n",
    "    y_pred = model.predict(X_test_scaled)\n",
    "    acc = accuracy_score(y_test, y_pred)\n",
    "    accuracies.append((k, acc))\n",
    "    print(f\"K={k} → Accuracy={acc:.2f}\")"
   ]
  },
  {
   "cell_type": "markdown",
   "id": "305ec554-bae9-4894-85ee-6c58121564a1",
   "metadata": {},
   "source": [
    "# Step 8: Final model with best K (say K=3)"
   ]
  },
  {
   "cell_type": "code",
   "execution_count": 17,
   "id": "bead0059-f389-4a91-a158-9449a43bfd02",
   "metadata": {},
   "outputs": [],
   "source": [
    "best_k = 3\n",
    "model = KNeighborsClassifier(n_neighbors=best_k)\n",
    "model.fit(X_train_scaled, y_train)\n",
    "y_pred = model.predict(X_test_scaled)"
   ]
  },
  {
   "cell_type": "markdown",
   "id": "8b0a3b3b-b21b-45e2-b6ca-df00b69861b7",
   "metadata": {},
   "source": [
    "# Step 9: Evaluation"
   ]
  },
  {
   "cell_type": "code",
   "execution_count": 16,
   "id": "7e8ec091-99ff-4ea2-a5d7-aafebf826c34",
   "metadata": {},
   "outputs": [
    {
     "name": "stdout",
     "output_type": "stream",
     "text": [
      "\n",
      "Confusion Matrix:\n",
      "[[10  0  0]\n",
      " [ 0  9  0]\n",
      " [ 0  0 11]]\n",
      "\n",
      "Classification Report:\n",
      "              precision    recall  f1-score   support\n",
      "\n",
      "           0       1.00      1.00      1.00        10\n",
      "           1       1.00      1.00      1.00         9\n",
      "           2       1.00      1.00      1.00        11\n",
      "\n",
      "    accuracy                           1.00        30\n",
      "   macro avg       1.00      1.00      1.00        30\n",
      "weighted avg       1.00      1.00      1.00        30\n",
      "\n"
     ]
    }
   ],
   "source": [
    "print(\"\\nConfusion Matrix:\")\n",
    "print(confusion_matrix(y_test, y_pred))\n",
    "\n",
    "print(\"\\nClassification Report:\")\n",
    "print(classification_report(y_test, y_pred))\n"
   ]
  },
  {
   "cell_type": "markdown",
   "id": "fffe9d13-36a8-4dd4-aba8-2a56db7d84c8",
   "metadata": {},
   "source": [
    "# Step 10: Plot Accuracy vs K"
   ]
  },
  {
   "cell_type": "code",
   "execution_count": 5,
   "id": "41ac9d54-3798-49e5-b966-e829c9b3f727",
   "metadata": {},
   "outputs": [
    {
     "data": {
      "image/png": "[encoded data removed]",
      "text/plain": [
       "<Figure size 800x500 with 1 Axes>"
      ]
     },
     "metadata": {},
     "output_type": "display_data"
    }
   ],
   "source": [
    "plt.figure(figsize=(8, 5))\n",
    "plt.plot([k for k, _ in accuracies], [acc for _, acc in accuracies],\n",
    "         marker='o', color='green')\n",
    "plt.title('Accuracy vs K')\n",
    "plt.xlabel('K Value')\n",
    "plt.ylabel('Accuracy')\n",
    "plt.grid(True)\n",
    "plt.tight_layout()"
   ]
  },
  {
   "cell_type": "markdown",
   "id": "53101199-00fc-4849-8582-1065ff6b0159",
   "metadata": {},
   "source": []
  }
 ],
 "metadata": {
  "kernelspec": {
   "display_name": "Python [conda env:base] *",
   "language": "python",
   "name": "conda-base-py"
  },
  "language_info": {
   "codemirror_mode": {
    "name": "ipython",
    "version": 3
   },
   "file_extension": ".py",
   "mimetype": "text/x-python",
   "name": "python",
   "nbconvert_exporter": "python",
   "pygments_lexer": "ipython3",
   "version": "3.12.7"
  }
 },
 "nbformat": 4,
 "nbformat_minor": 5
}
